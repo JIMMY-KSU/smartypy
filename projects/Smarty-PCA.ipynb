{
 "cells": [
  {
   "cell_type": "code",
   "execution_count": 1,
   "metadata": {
    "collapsed": true
   },
   "outputs": [],
   "source": [
    "#matplotlib inline\n",
    "import numpy as np\n",
    "import pylab as plt\n",
    "import sys\n",
    "import os\n",
    "import matplotlib.cm as cm\n",
    "\n",
    "# Simple - make smartypy visible and importable\n",
    "sys.path.append(os.path.split(os.getcwd())[0])\n",
    "from smartypy import PrincipleComponentAnalysis as PCA"
   ]
  },
  {
   "cell_type": "code",
   "execution_count": null,
   "metadata": {
    "collapsed": true
   },
   "outputs": [],
   "source": []
  }
 ],
 "metadata": {
  "anaconda-cloud": {},
  "kernelspec": {
   "display_name": "Python [conda env:smartypy]",
   "language": "python",
   "name": "conda-env-smartypy-py"
  },
  "language_info": {
   "codemirror_mode": {
    "name": "ipython",
    "version": 3
   },
   "file_extension": ".py",
   "mimetype": "text/x-python",
   "name": "python",
   "nbconvert_exporter": "python",
   "pygments_lexer": "ipython3",
   "version": "3.5.2"
  }
 },
 "nbformat": 4,
 "nbformat_minor": 1
}
